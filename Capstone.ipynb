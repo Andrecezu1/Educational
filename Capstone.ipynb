{
 "cells": [
  {
   "cell_type": "markdown",
   "metadata": {},
   "source": [
    "# ICFES Data Analysis\n",
    "\n",
    "The test used to measure the quality of undergraduate education in Colombia is named \"Saber - Pro\". This test was used to evaluate post-secondary education from 2003.\n",
    "\n",
    "This test measures generic competencies, such as quantitative reasoning, critical lecture, writing communication, English, and citizen competencies. And specific competencies for the career of the student.\n",
    "\n",
    "The ICFES shares this information, related to personal, academic, and socioeconomic information in order to propose ways to enhance the post-secondary education quality in the country.\n",
    "\n",
    "The public information shared by the institute can be found here.\n",
    "https://www.icfes.gov.co/data-icfes\n",
    "\n",
    "Therefore I will analyze the data related to this exam in order to answer the following questions:\n",
    "\n",
    "<br>1)Which are the socio-demographic variables that most influence the results in the test?</br>\n",
    "<br>2)Is the city where people live related to their scores?</br>\n",
    "<br>3)What are the top 20 universities?</br>\n"
   ]
  },
  {
   "cell_type": "code",
   "execution_count": 1,
   "metadata": {},
   "outputs": [],
   "source": [
    "# Import libraries\n",
    "import numpy as np\n",
    "import pandas as pd\n",
    "import matplotlib.pyplot as plt\n",
    "from IPython import display\n",
    "from sklearn.linear_model import LinearRegression\n",
    "from sklearn.model_selection import train_test_split\n",
    "from sklearn.metrics import r2_score, mean_squared_error\n",
    "from datetime import datetime\n",
    "import seaborn as sns\n",
    "%matplotlib inline\n",
    "%load_ext autoreload\n",
    "%autoreload 2"
   ]
  },
  {
   "cell_type": "markdown",
   "metadata": {},
   "source": [
    "## A Look at the Data\n",
    "\n",
    "In order to get a better understanding of the data we will be looking at throughout this lesson, let's take a look at some of the characteristics of the dataset.\n",
    "\n",
    "First, let's read in the data and necessary libraries."
   ]
  },
  {
   "cell_type": "code",
   "execution_count": 2,
   "metadata": {},
   "outputs": [
    {
     "name": "stderr",
     "output_type": "stream",
     "text": [
      "<ipython-input-2-2fb5752fb8a6>:2: ParserWarning: Falling back to the 'python' engine because the separator encoded in utf-8 is > 1 char long, and the 'c' engine does not support such separators; you can avoid this warning by specifying engine='python'.\n",
      "  Data2022_2 = pd.read_csv('DATA_ICFES_SABERPROPROFESIONAL_2022-2.TXT',error_bad_lines=False,delimiter='¬')\n",
      "Skipping line 6: '¬' expected after '\"'\n",
      "Skipping line 409: '¬' expected after '\"'\n",
      "Skipping line 822: '¬' expected after '\"'\n",
      "Skipping line 5113: '¬' expected after '\"'\n",
      "Skipping line 5264: '¬' expected after '\"'\n",
      "Skipping line 8083: '¬' expected after '\"'\n",
      "Skipping line 9675: '¬' expected after '\"'\n",
      "Skipping line 10470: '¬' expected after '\"'\n",
      "Skipping line 11713: '¬' expected after '\"'\n",
      "Skipping line 12840: '¬' expected after '\"'\n",
      "Skipping line 15663: '¬' expected after '\"'\n",
      "Skipping line 20847: '¬' expected after '\"'\n",
      "Skipping line 22146: '¬' expected after '\"'\n",
      "Skipping line 22710: '¬' expected after '\"'\n",
      "Skipping line 24397: '¬' expected after '\"'\n",
      "Skipping line 28034: '¬' expected after '\"'\n",
      "Skipping line 30050: '¬' expected after '\"'\n",
      "Skipping line 30883: '¬' expected after '\"'\n",
      "Skipping line 37337: '¬' expected after '\"'\n",
      "Skipping line 38583: '¬' expected after '\"'\n",
      "Skipping line 40722: '¬' expected after '\"'\n",
      "Skipping line 41234: '¬' expected after '\"'\n",
      "Skipping line 41892: '¬' expected after '\"'\n",
      "Skipping line 48839: '¬' expected after '\"'\n",
      "Skipping line 49615: '¬' expected after '\"'\n",
      "Skipping line 51503: '¬' expected after '\"'\n",
      "Skipping line 53316: '¬' expected after '\"'\n",
      "Skipping line 54144: '¬' expected after '\"'\n",
      "Skipping line 55118: '¬' expected after '\"'\n",
      "Skipping line 55389: '¬' expected after '\"'\n",
      "Skipping line 55956: '¬' expected after '\"'\n",
      "Skipping line 60334: '¬' expected after '\"'\n",
      "Skipping line 63357: '¬' expected after '\"'\n",
      "Skipping line 66300: '¬' expected after '\"'\n",
      "Skipping line 66546: '¬' expected after '\"'\n",
      "Skipping line 69139: '¬' expected after '\"'\n",
      "Skipping line 70190: '¬' expected after '\"'\n",
      "Skipping line 70571: '¬' expected after '\"'\n",
      "Skipping line 71893: '¬' expected after '\"'\n",
      "Skipping line 74585: '¬' expected after '\"'\n",
      "Skipping line 76919: '¬' expected after '\"'\n",
      "Skipping line 77592: '¬' expected after '\"'\n",
      "Skipping line 81423: '¬' expected after '\"'\n",
      "Skipping line 84490: '¬' expected after '\"'\n",
      "Skipping line 89554: '¬' expected after '\"'\n",
      "Skipping line 90449: '¬' expected after '\"'\n",
      "Skipping line 93473: '¬' expected after '\"'\n",
      "Skipping line 97388: '¬' expected after '\"'\n",
      "Skipping line 108477: '¬' expected after '\"'\n",
      "Skipping line 109937: '¬' expected after '\"'\n",
      "Skipping line 112735: '¬' expected after '\"'\n",
      "Skipping line 114400: '¬' expected after '\"'\n",
      "Skipping line 118283: '¬' expected after '\"'\n",
      "Skipping line 119311: '¬' expected after '\"'\n",
      "Skipping line 121002: '¬' expected after '\"'\n",
      "Skipping line 121118: '¬' expected after '\"'\n",
      "Skipping line 122096: '¬' expected after '\"'\n",
      "Skipping line 123092: '¬' expected after '\"'\n",
      "Skipping line 52513: Expected 109 fields in line 52513, saw 111\n"
     ]
    }
   ],
   "source": [
    "#Load information \n",
    "Data2022_2 = pd.read_csv('DATA_ICFES_SABERPROPROFESIONAL_2022-2.TXT',error_bad_lines=False,delimiter='¬')"
   ]
  },
  {
   "cell_type": "markdown",
   "metadata": {},
   "source": [
    "**1.** Number of rows and columns."
   ]
  },
  {
   "cell_type": "code",
   "execution_count": 3,
   "metadata": {},
   "outputs": [
    {
     "name": "stdout",
     "output_type": "stream",
     "text": [
      "2022_2:(127283, 109)\n"
     ]
    }
   ],
   "source": [
    "print (\"2022_2:\" + str(Data2022_2.shape))"
   ]
  },
  {
   "cell_type": "markdown",
   "metadata": {},
   "source": [
    "**2.** Which columns had no missing values? Provide a set of column names that have no missing values."
   ]
  },
  {
   "cell_type": "code",
   "execution_count": 4,
   "metadata": {},
   "outputs": [
    {
     "name": "stdout",
     "output_type": "stream",
     "text": [
      "<class 'pandas.core.frame.DataFrame'>\n",
      "RangeIndex: 127283 entries, 0 to 127282\n",
      "Columns: 109 entries, ESTU_TIPODOCUMENTOÂ to ESTU_ESTADOINVESTIGACION\n",
      "dtypes: object(109)\n",
      "memory usage: 105.8+ MB\n",
      "None\n"
     ]
    }
   ],
   "source": [
    "print (Data2022_2.info())"
   ]
  },
  {
   "cell_type": "code",
   "execution_count": 5,
   "metadata": {},
   "outputs": [
    {
     "name": "stdout",
     "output_type": "stream",
     "text": [
      "  ESTU_TIPODOCUMENTOÂ ESTU_NACIONALIDADÂ ESTU_GENEROÂ ESTU_FECHANACIMIENTOÂ  \\\n",
      "0                 CEÂ           ECUADORÂ           MÂ           24/12/1998Â   \n",
      "1                 CCÂ          COLOMBIAÂ           FÂ           11/09/2001Â   \n",
      "2                 CCÂ          COLOMBIAÂ           MÂ           10/09/2001Â   \n",
      "3                 CCÂ          COLOMBIAÂ           FÂ           16/03/1993Â   \n",
      "4                 CCÂ          COLOMBIAÂ           MÂ           20/10/1998Â   \n",
      "\n",
      "  ESTU_EXTERIORÂ PERIODOÂ ESTU_CONSECUTIVOÂ ESTU_ESTUDIANTEÂ  \\\n",
      "0            NOÂ   20225Â   EK202250120952Â      ESTUDIANTEÂ   \n",
      "1            NOÂ   20225Â   EK202250088428Â      ESTUDIANTEÂ   \n",
      "2            NOÂ   20225Â   EK202250166006Â      ESTUDIANTEÂ   \n",
      "3            NOÂ   20225Â   EK202250101378Â      ESTUDIANTEÂ   \n",
      "4            NOÂ   20225Â   EK202250199757Â      ESTUDIANTEÂ   \n",
      "\n",
      "  ESTU_PAIS_RESIDEÂ ESTU_TIENEETNIAÂ  ... MOD_COMUNI_ESCRITA_DESEMÂ  \\\n",
      "0          ECUADORÂ              NoÂ  ...                        3Â   \n",
      "1         COLOMBIAÂ              NoÂ  ...                        3Â   \n",
      "2         COLOMBIAÂ              NoÂ  ...                        3Â   \n",
      "3         COLOMBIAÂ              NoÂ  ...                        2Â   \n",
      "4         COLOMBIAÂ              NoÂ  ...                        3Â   \n",
      "\n",
      "  MOD_COMUNI_ESCRITA_PNALÂ MOD_COMUNI_ESCRITA_PNBCÂ PUNT_GLOBALÂ  \\\n",
      "0                      81Â                      82Â         174Â   \n",
      "1                      74Â                      76Â         152Â   \n",
      "2                      76Â                      82Â         151Â   \n",
      "3                      28Â                      29Â         122Â   \n",
      "4                      80Â                      82Â         179Â   \n",
      "\n",
      "  PERCENTIL_GLOBALÂ PERCENTIL_NBCÂ ESTU_INSE_INDIVIDUALÂ ESTU_NSE_INDIVIDUALÂ  \\\n",
      "0               86Â            86Â     52.3042986040786Â                   2Â   \n",
      "1               59Â            76Â     57.2411574258929Â                   3Â   \n",
      "2               59Â            72Â     48.3947073657689Â                   2Â   \n",
      "3               19Â            31Â     34.3247720250522Â                   1Â   \n",
      "4               90Â            91Â     58.3940037174097Â                   3Â   \n",
      "\n",
      "  ESTU_NSE_IESÂ ESTU_ESTADOINVESTIGACION  \n",
      "0            3Â                 PUBLICAR  \n",
      "1            2Â                 PUBLICAR  \n",
      "2            2Â                 PUBLICAR  \n",
      "3            4Â                 PUBLICAR  \n",
      "4            3Â                 PUBLICAR  \n",
      "\n",
      "[5 rows x 109 columns]\n"
     ]
    }
   ],
   "source": [
    "print(Data2022_2.head())"
   ]
  },
  {
   "cell_type": "code",
   "execution_count": 6,
   "metadata": {},
   "outputs": [],
   "source": [
    "most_missing_cols = []\n",
    "for i in Data2022_2.columns:\n",
    "    if Data2022_2[i].isnull().sum()/len(Data2022_2[i])>0.75:\n",
    "        most_missing_cols.append(i)"
   ]
  },
  {
   "cell_type": "code",
   "execution_count": 7,
   "metadata": {},
   "outputs": [
    {
     "data": {
      "text/plain": [
       "[]"
      ]
     },
     "execution_count": 7,
     "metadata": {},
     "output_type": "execute_result"
    }
   ],
   "source": [
    "most_missing_cols"
   ]
  },
  {
   "cell_type": "markdown",
   "metadata": {},
   "source": [
    "There are not columns with more than 75% nan values."
   ]
  },
  {
   "cell_type": "code",
   "execution_count": 8,
   "metadata": {},
   "outputs": [
    {
     "data": {
      "text/html": [
       "<div>\n",
       "<style scoped>\n",
       "    .dataframe tbody tr th:only-of-type {\n",
       "        vertical-align: middle;\n",
       "    }\n",
       "\n",
       "    .dataframe tbody tr th {\n",
       "        vertical-align: top;\n",
       "    }\n",
       "\n",
       "    .dataframe thead th {\n",
       "        text-align: right;\n",
       "    }\n",
       "</style>\n",
       "<table border=\"1\" class=\"dataframe\">\n",
       "  <thead>\n",
       "    <tr style=\"text-align: right;\">\n",
       "      <th></th>\n",
       "      <th>ESTU_TIPODOCUMENTOÂ</th>\n",
       "      <th>ESTU_NACIONALIDADÂ</th>\n",
       "      <th>ESTU_GENEROÂ</th>\n",
       "      <th>ESTU_FECHANACIMIENTOÂ</th>\n",
       "      <th>ESTU_EXTERIORÂ</th>\n",
       "      <th>PERIODOÂ</th>\n",
       "      <th>ESTU_CONSECUTIVOÂ</th>\n",
       "      <th>ESTU_ESTUDIANTEÂ</th>\n",
       "      <th>ESTU_PAIS_RESIDEÂ</th>\n",
       "      <th>ESTU_TIENEETNIAÂ</th>\n",
       "      <th>...</th>\n",
       "      <th>MOD_COMUNI_ESCRITA_DESEMÂ</th>\n",
       "      <th>MOD_COMUNI_ESCRITA_PNALÂ</th>\n",
       "      <th>MOD_COMUNI_ESCRITA_PNBCÂ</th>\n",
       "      <th>PUNT_GLOBALÂ</th>\n",
       "      <th>PERCENTIL_GLOBALÂ</th>\n",
       "      <th>PERCENTIL_NBCÂ</th>\n",
       "      <th>ESTU_INSE_INDIVIDUALÂ</th>\n",
       "      <th>ESTU_NSE_INDIVIDUALÂ</th>\n",
       "      <th>ESTU_NSE_IESÂ</th>\n",
       "      <th>ESTU_ESTADOINVESTIGACION</th>\n",
       "    </tr>\n",
       "  </thead>\n",
       "  <tbody>\n",
       "    <tr>\n",
       "      <th>0</th>\n",
       "      <td>CEÂ</td>\n",
       "      <td>ECUADORÂ</td>\n",
       "      <td>MÂ</td>\n",
       "      <td>24/12/1998Â</td>\n",
       "      <td>NOÂ</td>\n",
       "      <td>20225Â</td>\n",
       "      <td>EK202250120952Â</td>\n",
       "      <td>ESTUDIANTEÂ</td>\n",
       "      <td>ECUADORÂ</td>\n",
       "      <td>NoÂ</td>\n",
       "      <td>...</td>\n",
       "      <td>3Â</td>\n",
       "      <td>81Â</td>\n",
       "      <td>82Â</td>\n",
       "      <td>174Â</td>\n",
       "      <td>86Â</td>\n",
       "      <td>86Â</td>\n",
       "      <td>52.3042986040786Â</td>\n",
       "      <td>2Â</td>\n",
       "      <td>3Â</td>\n",
       "      <td>PUBLICAR</td>\n",
       "    </tr>\n",
       "    <tr>\n",
       "      <th>1</th>\n",
       "      <td>CCÂ</td>\n",
       "      <td>COLOMBIAÂ</td>\n",
       "      <td>FÂ</td>\n",
       "      <td>11/09/2001Â</td>\n",
       "      <td>NOÂ</td>\n",
       "      <td>20225Â</td>\n",
       "      <td>EK202250088428Â</td>\n",
       "      <td>ESTUDIANTEÂ</td>\n",
       "      <td>COLOMBIAÂ</td>\n",
       "      <td>NoÂ</td>\n",
       "      <td>...</td>\n",
       "      <td>3Â</td>\n",
       "      <td>74Â</td>\n",
       "      <td>76Â</td>\n",
       "      <td>152Â</td>\n",
       "      <td>59Â</td>\n",
       "      <td>76Â</td>\n",
       "      <td>57.2411574258929Â</td>\n",
       "      <td>3Â</td>\n",
       "      <td>2Â</td>\n",
       "      <td>PUBLICAR</td>\n",
       "    </tr>\n",
       "    <tr>\n",
       "      <th>2</th>\n",
       "      <td>CCÂ</td>\n",
       "      <td>COLOMBIAÂ</td>\n",
       "      <td>MÂ</td>\n",
       "      <td>10/09/2001Â</td>\n",
       "      <td>NOÂ</td>\n",
       "      <td>20225Â</td>\n",
       "      <td>EK202250166006Â</td>\n",
       "      <td>ESTUDIANTEÂ</td>\n",
       "      <td>COLOMBIAÂ</td>\n",
       "      <td>NoÂ</td>\n",
       "      <td>...</td>\n",
       "      <td>3Â</td>\n",
       "      <td>76Â</td>\n",
       "      <td>82Â</td>\n",
       "      <td>151Â</td>\n",
       "      <td>59Â</td>\n",
       "      <td>72Â</td>\n",
       "      <td>48.3947073657689Â</td>\n",
       "      <td>2Â</td>\n",
       "      <td>2Â</td>\n",
       "      <td>PUBLICAR</td>\n",
       "    </tr>\n",
       "    <tr>\n",
       "      <th>3</th>\n",
       "      <td>CCÂ</td>\n",
       "      <td>COLOMBIAÂ</td>\n",
       "      <td>FÂ</td>\n",
       "      <td>16/03/1993Â</td>\n",
       "      <td>NOÂ</td>\n",
       "      <td>20225Â</td>\n",
       "      <td>EK202250101378Â</td>\n",
       "      <td>ESTUDIANTEÂ</td>\n",
       "      <td>COLOMBIAÂ</td>\n",
       "      <td>NoÂ</td>\n",
       "      <td>...</td>\n",
       "      <td>2Â</td>\n",
       "      <td>28Â</td>\n",
       "      <td>29Â</td>\n",
       "      <td>122Â</td>\n",
       "      <td>19Â</td>\n",
       "      <td>31Â</td>\n",
       "      <td>34.3247720250522Â</td>\n",
       "      <td>1Â</td>\n",
       "      <td>4Â</td>\n",
       "      <td>PUBLICAR</td>\n",
       "    </tr>\n",
       "    <tr>\n",
       "      <th>4</th>\n",
       "      <td>CCÂ</td>\n",
       "      <td>COLOMBIAÂ</td>\n",
       "      <td>MÂ</td>\n",
       "      <td>20/10/1998Â</td>\n",
       "      <td>NOÂ</td>\n",
       "      <td>20225Â</td>\n",
       "      <td>EK202250199757Â</td>\n",
       "      <td>ESTUDIANTEÂ</td>\n",
       "      <td>COLOMBIAÂ</td>\n",
       "      <td>NoÂ</td>\n",
       "      <td>...</td>\n",
       "      <td>3Â</td>\n",
       "      <td>80Â</td>\n",
       "      <td>82Â</td>\n",
       "      <td>179Â</td>\n",
       "      <td>90Â</td>\n",
       "      <td>91Â</td>\n",
       "      <td>58.3940037174097Â</td>\n",
       "      <td>3Â</td>\n",
       "      <td>3Â</td>\n",
       "      <td>PUBLICAR</td>\n",
       "    </tr>\n",
       "  </tbody>\n",
       "</table>\n",
       "<p>5 rows × 109 columns</p>\n",
       "</div>"
      ],
      "text/plain": [
       "  ESTU_TIPODOCUMENTOÂ ESTU_NACIONALIDADÂ ESTU_GENEROÂ ESTU_FECHANACIMIENTOÂ  \\\n",
       "0                 CEÂ           ECUADORÂ           MÂ           24/12/1998Â   \n",
       "1                 CCÂ          COLOMBIAÂ           FÂ           11/09/2001Â   \n",
       "2                 CCÂ          COLOMBIAÂ           MÂ           10/09/2001Â   \n",
       "3                 CCÂ          COLOMBIAÂ           FÂ           16/03/1993Â   \n",
       "4                 CCÂ          COLOMBIAÂ           MÂ           20/10/1998Â   \n",
       "\n",
       "  ESTU_EXTERIORÂ PERIODOÂ ESTU_CONSECUTIVOÂ ESTU_ESTUDIANTEÂ  \\\n",
       "0            NOÂ   20225Â   EK202250120952Â      ESTUDIANTEÂ   \n",
       "1            NOÂ   20225Â   EK202250088428Â      ESTUDIANTEÂ   \n",
       "2            NOÂ   20225Â   EK202250166006Â      ESTUDIANTEÂ   \n",
       "3            NOÂ   20225Â   EK202250101378Â      ESTUDIANTEÂ   \n",
       "4            NOÂ   20225Â   EK202250199757Â      ESTUDIANTEÂ   \n",
       "\n",
       "  ESTU_PAIS_RESIDEÂ ESTU_TIENEETNIAÂ  ... MOD_COMUNI_ESCRITA_DESEMÂ  \\\n",
       "0          ECUADORÂ              NoÂ  ...                        3Â   \n",
       "1         COLOMBIAÂ              NoÂ  ...                        3Â   \n",
       "2         COLOMBIAÂ              NoÂ  ...                        3Â   \n",
       "3         COLOMBIAÂ              NoÂ  ...                        2Â   \n",
       "4         COLOMBIAÂ              NoÂ  ...                        3Â   \n",
       "\n",
       "  MOD_COMUNI_ESCRITA_PNALÂ MOD_COMUNI_ESCRITA_PNBCÂ PUNT_GLOBALÂ  \\\n",
       "0                      81Â                      82Â         174Â   \n",
       "1                      74Â                      76Â         152Â   \n",
       "2                      76Â                      82Â         151Â   \n",
       "3                      28Â                      29Â         122Â   \n",
       "4                      80Â                      82Â         179Â   \n",
       "\n",
       "  PERCENTIL_GLOBALÂ PERCENTIL_NBCÂ ESTU_INSE_INDIVIDUALÂ ESTU_NSE_INDIVIDUALÂ  \\\n",
       "0               86Â            86Â     52.3042986040786Â                   2Â   \n",
       "1               59Â            76Â     57.2411574258929Â                   3Â   \n",
       "2               59Â            72Â     48.3947073657689Â                   2Â   \n",
       "3               19Â            31Â     34.3247720250522Â                   1Â   \n",
       "4               90Â            91Â     58.3940037174097Â                   3Â   \n",
       "\n",
       "  ESTU_NSE_IESÂ ESTU_ESTADOINVESTIGACION  \n",
       "0            3Â                 PUBLICAR  \n",
       "1            2Â                 PUBLICAR  \n",
       "2            2Â                 PUBLICAR  \n",
       "3            4Â                 PUBLICAR  \n",
       "4            3Â                 PUBLICAR  \n",
       "\n",
       "[5 rows x 109 columns]"
      ]
     },
     "execution_count": 8,
     "metadata": {},
     "output_type": "execute_result"
    }
   ],
   "source": [
    "Data2022_2.head()"
   ]
  },
  {
   "cell_type": "code",
   "execution_count": 9,
   "metadata": {},
   "outputs": [
    {
     "data": {
      "text/plain": [
       "Index(['ESTU_TIPODOCUMENTOÂ', 'ESTU_NACIONALIDADÂ', 'ESTU_GENEROÂ',\n",
       "       'ESTU_FECHANACIMIENTOÂ', 'ESTU_EXTERIORÂ', 'PERIODOÂ',\n",
       "       'ESTU_CONSECUTIVOÂ', 'ESTU_ESTUDIANTEÂ', 'ESTU_PAIS_RESIDEÂ',\n",
       "       'ESTU_TIENEETNIAÂ',\n",
       "       ...\n",
       "       'MOD_COMUNI_ESCRITA_DESEMÂ', 'MOD_COMUNI_ESCRITA_PNALÂ',\n",
       "       'MOD_COMUNI_ESCRITA_PNBCÂ', 'PUNT_GLOBALÂ', 'PERCENTIL_GLOBALÂ',\n",
       "       'PERCENTIL_NBCÂ', 'ESTU_INSE_INDIVIDUALÂ', 'ESTU_NSE_INDIVIDUALÂ',\n",
       "       'ESTU_NSE_IESÂ', 'ESTU_ESTADOINVESTIGACION'],\n",
       "      dtype='object', length=109)"
      ]
     },
     "execution_count": 9,
     "metadata": {},
     "output_type": "execute_result"
    }
   ],
   "source": [
    "Data2022_2.columns"
   ]
  },
  {
   "cell_type": "code",
   "execution_count": 10,
   "metadata": {},
   "outputs": [],
   "source": [
    "df=Data2022_2[['ESTU_GENEROÂ','ESTU_TIENEETNIAÂ','ESTU_DEPTO_RESIDEÂ','ESTU_ESTADOCIVILÂ'\n",
    "               ,'ESTU_VALORMATRICULAUNIVERSIDADÂ','ESTU_PAGOMATRICULABECAÂ','ESTU_COMOCAPACITOEXAMENSB11Â'\n",
    "               ,'ESTU_CURSODOCENTESIESÂ','ESTU_CURSOIESAPOYOEXTERNOÂ','ESTU_CURSOIESEXTERNAÂ', 'ESTU_SIMULACROTIPOICFESÂ','ESTU_ACTIVIDADREFUERZOAREASÂ'\n",
    "               ,'ESTU_ACTIVIDADREFUERZOGENERICÂ','ESTU_SEMESTRECURSAÂ','FAMI_EDUCACIONPADREÂ','FAMI_EDUCACIONMADREÂ','FAMI_OCUPACIONPADREÂ','FAMI_OCUPACIONMADREÂ'\n",
    "               ,'FAMI_ESTRATOVIVIENDAÂ','FAMI_TIENEINTERNETÂ','FAMI_TIENECOMPUTADORÂ','FAMI_TIENELAVADORAÂ','FAMI_TIENEHORNOMICROOGASÂ','FAMI_TIENESERVICIOTVÂ'\n",
    "               ,'FAMI_TIENEAUTOMOVILÂ','FAMI_TIENEMOTOCICLETAÂ','FAMI_TIENECONSOLAVIDEOJUEGOSÂ','FAMI_TRABAJOLABORPADREÂ','FAMI_TRABAJOLABORMADREÂ'\n",
    "               ,'ESTU_PLANTELEDUCATIVOÂ','ESTU_PREGRADOEXAMENSPÂ','ESTU_UNPOSTGRADOÂ','ESTU_HORASSEMANATRABAJAÂ','FAMI_CUANTOSCOMPARTEBAÃ‘OÂ','ESTU_PAGOMATRICULAÂ'\n",
    "               ,'ESTU_VLRULTIMOSEMESCURSADOÂ','ESTU_PRESENTACIONCASAÂ','INST_NOMBRE_INSTITUCIONÂ'\n",
    "               ,'GRUPOREFERENCIAÂ','ESTU_PRGM_CODMUNICIPIOÂ','ESTU_NIVEL_PRGM_ACADEMICOÂ','ESTU_METODO_PRGMÂ','ESTU_NUCLEO_PREGRADOÂ','INST_CARACTER_ACADEMICOÂ','ESTU_PRIVADO_LIBERTADÂ'\n",
    "               ,'PUNT_GLOBALÂ']]"
   ]
  },
  {
   "cell_type": "code",
   "execution_count": 11,
   "metadata": {},
   "outputs": [],
   "source": [
    "# General review of the target variable\n",
    "#Replace the special characters\n",
    "df=df.replace('Â','',regex=True)\n",
    "df=df.replace('�','',regex=True)\n",
    "df=df.replace('©','',regex=True)\n",
    "df=df.replace('³','',regex=True)\n",
    "df=df.replace('Ã','',regex=True)"
   ]
  },
  {
   "cell_type": "code",
   "execution_count": 12,
   "metadata": {},
   "outputs": [
    {
     "data": {
      "text/html": [
       "<div>\n",
       "<style scoped>\n",
       "    .dataframe tbody tr th:only-of-type {\n",
       "        vertical-align: middle;\n",
       "    }\n",
       "\n",
       "    .dataframe tbody tr th {\n",
       "        vertical-align: top;\n",
       "    }\n",
       "\n",
       "    .dataframe thead th {\n",
       "        text-align: right;\n",
       "    }\n",
       "</style>\n",
       "<table border=\"1\" class=\"dataframe\">\n",
       "  <thead>\n",
       "    <tr style=\"text-align: right;\">\n",
       "      <th></th>\n",
       "      <th>ESTU_GENEROÂ</th>\n",
       "      <th>ESTU_TIENEETNIAÂ</th>\n",
       "      <th>ESTU_DEPTO_RESIDEÂ</th>\n",
       "      <th>ESTU_ESTADOCIVILÂ</th>\n",
       "      <th>ESTU_VALORMATRICULAUNIVERSIDADÂ</th>\n",
       "      <th>ESTU_PAGOMATRICULABECAÂ</th>\n",
       "      <th>ESTU_COMOCAPACITOEXAMENSB11Â</th>\n",
       "      <th>ESTU_CURSODOCENTESIESÂ</th>\n",
       "      <th>ESTU_CURSOIESAPOYOEXTERNOÂ</th>\n",
       "      <th>ESTU_CURSOIESEXTERNAÂ</th>\n",
       "      <th>...</th>\n",
       "      <th>ESTU_PRESENTACIONCASAÂ</th>\n",
       "      <th>INST_NOMBRE_INSTITUCIONÂ</th>\n",
       "      <th>GRUPOREFERENCIAÂ</th>\n",
       "      <th>ESTU_PRGM_CODMUNICIPIOÂ</th>\n",
       "      <th>ESTU_NIVEL_PRGM_ACADEMICOÂ</th>\n",
       "      <th>ESTU_METODO_PRGMÂ</th>\n",
       "      <th>ESTU_NUCLEO_PREGRADOÂ</th>\n",
       "      <th>INST_CARACTER_ACADEMICOÂ</th>\n",
       "      <th>ESTU_PRIVADO_LIBERTADÂ</th>\n",
       "      <th>PUNT_GLOBALÂ</th>\n",
       "    </tr>\n",
       "  </thead>\n",
       "  <tbody>\n",
       "    <tr>\n",
       "      <th>0</th>\n",
       "      <td>M</td>\n",
       "      <td>No</td>\n",
       "      <td>BOGOT</td>\n",
       "      <td>Soltero</td>\n",
       "      <td>Entre 1 milln y menos de 2.5 millones</td>\n",
       "      <td>No</td>\n",
       "      <td>Repas por cuenta propia</td>\n",
       "      <td></td>\n",
       "      <td></td>\n",
       "      <td></td>\n",
       "      <td>...</td>\n",
       "      <td>Si</td>\n",
       "      <td>UNIVERSIDAD NACIONAL DE COLOMBIA-BOGOT D.C.</td>\n",
       "      <td>ARQUITECTURA Y URBANISMO</td>\n",
       "      <td>11001</td>\n",
       "      <td>UNIVERSITARIO</td>\n",
       "      <td>PRESENCIAL</td>\n",
       "      <td>ARQUITECTURA</td>\n",
       "      <td>UNIVERSIDAD</td>\n",
       "      <td>N</td>\n",
       "      <td>174</td>\n",
       "    </tr>\n",
       "    <tr>\n",
       "      <th>1</th>\n",
       "      <td>F</td>\n",
       "      <td>No</td>\n",
       "      <td>SUCRE</td>\n",
       "      <td>Soltero</td>\n",
       "      <td>Entre 2.5 millones y menos de 4 millones</td>\n",
       "      <td>No</td>\n",
       "      <td>Tom un curso de preparacin</td>\n",
       "      <td>Menos de 20 horas</td>\n",
       "      <td>M¡s de 30 horas</td>\n",
       "      <td>Menos de 20 horas</td>\n",
       "      <td>...</td>\n",
       "      <td>No</td>\n",
       "      <td>CORPORACION UNIVERSITARIA DEL CARIBE - CECAR-S...</td>\n",
       "      <td>CIENCIAS SOCIALES</td>\n",
       "      <td>70001</td>\n",
       "      <td>UNIVERSITARIO</td>\n",
       "      <td>PRESENCIAL</td>\n",
       "      <td>SOCIOLOGA, TRABAJO SOCIAL Y AFINES</td>\n",
       "      <td>INSTITUCI“N UNIVERSITARIA</td>\n",
       "      <td>N</td>\n",
       "      <td>152</td>\n",
       "    </tr>\n",
       "    <tr>\n",
       "      <th>2</th>\n",
       "      <td>M</td>\n",
       "      <td>No</td>\n",
       "      <td>CUNDINAMARCA</td>\n",
       "      <td>Soltero</td>\n",
       "      <td>Entre 1 milln y menos de 2.5 millones</td>\n",
       "      <td>No</td>\n",
       "      <td>Repas por cuenta propia</td>\n",
       "      <td></td>\n",
       "      <td></td>\n",
       "      <td></td>\n",
       "      <td>...</td>\n",
       "      <td>Si</td>\n",
       "      <td>FUNDACION UNIVERSITARIA DEL AREA ANDINA-BOGOT ...</td>\n",
       "      <td>ADMINISTRACI“N Y AFINES</td>\n",
       "      <td>11001</td>\n",
       "      <td>UNIVERSITARIO</td>\n",
       "      <td>DISTANCIA VITUAL</td>\n",
       "      <td>ADMINISTRACI“N</td>\n",
       "      <td>INSTITUCI“N UNIVERSITARIA</td>\n",
       "      <td>N</td>\n",
       "      <td>151</td>\n",
       "    </tr>\n",
       "    <tr>\n",
       "      <th>3</th>\n",
       "      <td>F</td>\n",
       "      <td>No</td>\n",
       "      <td>PUTUMAYO</td>\n",
       "      <td>Unin libre</td>\n",
       "      <td>Entre 500 mil y menos de 1 milln</td>\n",
       "      <td>No</td>\n",
       "      <td>Tom un curso de preparacin</td>\n",
       "      <td>Entre 20 y 30 horas</td>\n",
       "      <td>Menos de 20 horas</td>\n",
       "      <td>Menos de 20 horas</td>\n",
       "      <td>...</td>\n",
       "      <td>Si</td>\n",
       "      <td>UNIVERSIDAD PONTIFICIA BOLIVARIANA-MEDELLIN</td>\n",
       "      <td>CIENCIAS SOCIALES</td>\n",
       "      <td>86749</td>\n",
       "      <td>UNIVERSITARIO</td>\n",
       "      <td>DISTANCIA</td>\n",
       "      <td>SOCIOLOGA, TRABAJO SOCIAL Y AFINES</td>\n",
       "      <td>UNIVERSIDAD</td>\n",
       "      <td>N</td>\n",
       "      <td>122</td>\n",
       "    </tr>\n",
       "    <tr>\n",
       "      <th>4</th>\n",
       "      <td>M</td>\n",
       "      <td>No</td>\n",
       "      <td>ANTIOQUIA</td>\n",
       "      <td>Soltero</td>\n",
       "      <td>Entre 1 milln y menos de 2.5 millones</td>\n",
       "      <td>Si</td>\n",
       "      <td>No realiz ninguna prueba de preparacin</td>\n",
       "      <td></td>\n",
       "      <td></td>\n",
       "      <td></td>\n",
       "      <td>...</td>\n",
       "      <td>No</td>\n",
       "      <td>UNIVERSIDAD NACIONAL DE COLOMBIA-MEDELLIN</td>\n",
       "      <td>ARQUITECTURA Y URBANISMO</td>\n",
       "      <td>05001</td>\n",
       "      <td>UNIVERSITARIO</td>\n",
       "      <td>PRESENCIAL</td>\n",
       "      <td>ARQUITECTURA</td>\n",
       "      <td>UNIVERSIDAD</td>\n",
       "      <td>N</td>\n",
       "      <td>179</td>\n",
       "    </tr>\n",
       "  </tbody>\n",
       "</table>\n",
       "<p>5 rows × 46 columns</p>\n",
       "</div>"
      ],
      "text/plain": [
       "  ESTU_GENEROÂ ESTU_TIENEETNIAÂ ESTU_DEPTO_RESIDEÂ ESTU_ESTADOCIVILÂ  \\\n",
       "0            M               No              BOGOT           Soltero   \n",
       "1            F               No              SUCRE           Soltero   \n",
       "2            M               No       CUNDINAMARCA           Soltero   \n",
       "3            F               No           PUTUMAYO        Unin libre   \n",
       "4            M               No          ANTIOQUIA           Soltero   \n",
       "\n",
       "            ESTU_VALORMATRICULAUNIVERSIDADÂ ESTU_PAGOMATRICULABECAÂ  \\\n",
       "0     Entre 1 milln y menos de 2.5 millones                      No   \n",
       "1  Entre 2.5 millones y menos de 4 millones                      No   \n",
       "2     Entre 1 milln y menos de 2.5 millones                      No   \n",
       "3          Entre 500 mil y menos de 1 milln                      No   \n",
       "4     Entre 1 milln y menos de 2.5 millones                      Si   \n",
       "\n",
       "             ESTU_COMOCAPACITOEXAMENSB11Â ESTU_CURSODOCENTESIESÂ  \\\n",
       "0                 Repas por cuenta propia                          \n",
       "1              Tom un curso de preparacin      Menos de 20 horas   \n",
       "2                 Repas por cuenta propia                          \n",
       "3              Tom un curso de preparacin    Entre 20 y 30 horas   \n",
       "4  No realiz ninguna prueba de preparacin                          \n",
       "\n",
       "  ESTU_CURSOIESAPOYOEXTERNOÂ ESTU_CURSOIESEXTERNAÂ  ...  \\\n",
       "0                                                   ...   \n",
       "1            M¡s de 30 horas     Menos de 20 horas  ...   \n",
       "2                                                   ...   \n",
       "3          Menos de 20 horas     Menos de 20 horas  ...   \n",
       "4                                                   ...   \n",
       "\n",
       "  ESTU_PRESENTACIONCASAÂ                           INST_NOMBRE_INSTITUCIONÂ  \\\n",
       "0                     Si        UNIVERSIDAD NACIONAL DE COLOMBIA-BOGOT D.C.   \n",
       "1                     No  CORPORACION UNIVERSITARIA DEL CARIBE - CECAR-S...   \n",
       "2                     Si  FUNDACION UNIVERSITARIA DEL AREA ANDINA-BOGOT ...   \n",
       "3                     Si        UNIVERSIDAD PONTIFICIA BOLIVARIANA-MEDELLIN   \n",
       "4                     No          UNIVERSIDAD NACIONAL DE COLOMBIA-MEDELLIN   \n",
       "\n",
       "            GRUPOREFERENCIAÂ ESTU_PRGM_CODMUNICIPIOÂ  \\\n",
       "0  ARQUITECTURA Y URBANISMO                    11001   \n",
       "1          CIENCIAS SOCIALES                   70001   \n",
       "2    ADMINISTRACI“N Y AFINES                   11001   \n",
       "3          CIENCIAS SOCIALES                   86749   \n",
       "4  ARQUITECTURA Y URBANISMO                    05001   \n",
       "\n",
       "  ESTU_NIVEL_PRGM_ACADEMICOÂ ESTU_METODO_PRGMÂ  \\\n",
       "0              UNIVERSITARIO        PRESENCIAL   \n",
       "1              UNIVERSITARIO        PRESENCIAL   \n",
       "2              UNIVERSITARIO  DISTANCIA VITUAL   \n",
       "3              UNIVERSITARIO         DISTANCIA   \n",
       "4              UNIVERSITARIO        PRESENCIAL   \n",
       "\n",
       "                ESTU_NUCLEO_PREGRADOÂ   INST_CARACTER_ACADEMICOÂ  \\\n",
       "0                        ARQUITECTURA                UNIVERSIDAD   \n",
       "1  SOCIOLOGA, TRABAJO SOCIAL Y AFINES  INSTITUCI“N UNIVERSITARIA   \n",
       "2                      ADMINISTRACI“N  INSTITUCI“N UNIVERSITARIA   \n",
       "3  SOCIOLOGA, TRABAJO SOCIAL Y AFINES                UNIVERSIDAD   \n",
       "4                        ARQUITECTURA                UNIVERSIDAD   \n",
       "\n",
       "  ESTU_PRIVADO_LIBERTADÂ PUNT_GLOBALÂ  \n",
       "0                      N          174  \n",
       "1                      N          152  \n",
       "2                      N          151  \n",
       "3                      N          122  \n",
       "4                      N          179  \n",
       "\n",
       "[5 rows x 46 columns]"
      ]
     },
     "execution_count": 12,
     "metadata": {},
     "output_type": "execute_result"
    }
   ],
   "source": [
    "df.head()"
   ]
  },
  {
   "cell_type": "code",
   "execution_count": 13,
   "metadata": {},
   "outputs": [
    {
     "name": "stdout",
     "output_type": "stream",
     "text": [
      "<class 'pandas.core.frame.DataFrame'>\n",
      "RangeIndex: 127283 entries, 0 to 127282\n",
      "Data columns (total 46 columns):\n",
      " #   Column                           Non-Null Count   Dtype \n",
      "---  ------                           --------------   ----- \n",
      " 0   ESTU_GENEROÂ                     127283 non-null  object\n",
      " 1   ESTU_TIENEETNIAÂ                 127283 non-null  object\n",
      " 2   ESTU_DEPTO_RESIDEÂ               127283 non-null  object\n",
      " 3   ESTU_ESTADOCIVILÂ                127283 non-null  object\n",
      " 4   ESTU_VALORMATRICULAUNIVERSIDADÂ  127283 non-null  object\n",
      " 5   ESTU_PAGOMATRICULABECAÂ          127283 non-null  object\n",
      " 6   ESTU_COMOCAPACITOEXAMENSB11Â     127283 non-null  object\n",
      " 7   ESTU_CURSODOCENTESIESÂ           127283 non-null  object\n",
      " 8   ESTU_CURSOIESAPOYOEXTERNOÂ       127283 non-null  object\n",
      " 9   ESTU_CURSOIESEXTERNAÂ            127283 non-null  object\n",
      " 10  ESTU_SIMULACROTIPOICFESÂ         127283 non-null  object\n",
      " 11  ESTU_ACTIVIDADREFUERZOAREASÂ     127283 non-null  object\n",
      " 12  ESTU_ACTIVIDADREFUERZOGENERICÂ   127283 non-null  object\n",
      " 13  ESTU_SEMESTRECURSAÂ              127283 non-null  object\n",
      " 14  FAMI_EDUCACIONPADREÂ             127283 non-null  object\n",
      " 15  FAMI_EDUCACIONMADREÂ             127283 non-null  object\n",
      " 16  FAMI_OCUPACIONPADREÂ             127283 non-null  object\n",
      " 17  FAMI_OCUPACIONMADREÂ             127283 non-null  object\n",
      " 18  FAMI_ESTRATOVIVIENDAÂ            127283 non-null  object\n",
      " 19  FAMI_TIENEINTERNETÂ              127283 non-null  object\n",
      " 20  FAMI_TIENECOMPUTADORÂ            127283 non-null  object\n",
      " 21  FAMI_TIENELAVADORAÂ              127283 non-null  object\n",
      " 22  FAMI_TIENEHORNOMICROOGASÂ        127283 non-null  object\n",
      " 23  FAMI_TIENESERVICIOTVÂ            127283 non-null  object\n",
      " 24  FAMI_TIENEAUTOMOVILÂ             127283 non-null  object\n",
      " 25  FAMI_TIENEMOTOCICLETAÂ           127283 non-null  object\n",
      " 26  FAMI_TIENECONSOLAVIDEOJUEGOSÂ    127283 non-null  object\n",
      " 27  FAMI_TRABAJOLABORPADREÂ          127283 non-null  object\n",
      " 28  FAMI_TRABAJOLABORMADREÂ          127283 non-null  object\n",
      " 29  ESTU_PLANTELEDUCATIVOÂ           127283 non-null  object\n",
      " 30  ESTU_PREGRADOEXAMENSPÂ           127283 non-null  object\n",
      " 31  ESTU_UNPOSTGRADOÂ                127283 non-null  object\n",
      " 32  ESTU_HORASSEMANATRABAJAÂ         127283 non-null  object\n",
      " 33  FAMI_CUANTOSCOMPARTEBAÃ‘OÂ       127283 non-null  object\n",
      " 34  ESTU_PAGOMATRICULAÂ              127283 non-null  object\n",
      " 35  ESTU_VLRULTIMOSEMESCURSADOÂ      127283 non-null  object\n",
      " 36  ESTU_PRESENTACIONCASAÂ           127283 non-null  object\n",
      " 37  INST_NOMBRE_INSTITUCIONÂ         127283 non-null  object\n",
      " 38  GRUPOREFERENCIAÂ                 127283 non-null  object\n",
      " 39  ESTU_PRGM_CODMUNICIPIOÂ          127283 non-null  object\n",
      " 40  ESTU_NIVEL_PRGM_ACADEMICOÂ       127283 non-null  object\n",
      " 41  ESTU_METODO_PRGMÂ                127283 non-null  object\n",
      " 42  ESTU_NUCLEO_PREGRADOÂ            127283 non-null  object\n",
      " 43  INST_CARACTER_ACADEMICOÂ         127283 non-null  object\n",
      " 44  ESTU_PRIVADO_LIBERTADÂ           127283 non-null  object\n",
      " 45  PUNT_GLOBALÂ                     127283 non-null  object\n",
      "dtypes: object(46)\n",
      "memory usage: 44.7+ MB\n"
     ]
    }
   ],
   "source": [
    "df.info()"
   ]
  },
  {
   "cell_type": "markdown",
   "metadata": {},
   "source": [
    "It appears that all the columns are object type. However, the target variable should be an ingerer. Therefore, I will change the data type of this variable."
   ]
  },
  {
   "cell_type": "code",
   "execution_count": 14,
   "metadata": {},
   "outputs": [],
   "source": [
    "df['PUNT_GLOBALÂ']=df['PUNT_GLOBALÂ'].apply(lambda x: float(x))"
   ]
  },
  {
   "cell_type": "markdown",
   "metadata": {},
   "source": [
    "## Data analysis"
   ]
  },
  {
   "cell_type": "markdown",
   "metadata": {},
   "source": [
    "Now I wan to see the general behavior of the target variable \"PUNT_GLOBAL\""
   ]
  },
  {
   "cell_type": "code",
   "execution_count": 15,
   "metadata": {},
   "outputs": [
    {
     "data": {
      "image/png": "[encoded data removed]",
      "text/plain": [
       "<Figure size 432x288 with 1 Axes>"
      ]
     },
     "metadata": {
      "needs_background": "light"
     },
     "output_type": "display_data"
    }
   ],
   "source": [
    "plt.hist(df['PUNT_GLOBALÂ'], bins=12, density=True)\n",
    "plt.xlabel(\"Punctuation\")\n",
    "plt.ylabel(\"Probability\")\n",
    "plt.title(\"Global test punctuation hystogram\")\n",
    "plt.show()"
   ]
  },
  {
   "cell_type": "markdown",
   "metadata": {},
   "source": [
    "In general, the scores round 150 points and it seems the general range of a score moves from 100 to 200 points.With somme exceptions that are as low as 0 points and the maximun that is 250 points."
   ]
  },
  {
   "cell_type": "markdown",
   "metadata": {},
   "source": [
    "Now, I want to see the relation between the target variable and the categorical variables."
   ]
  },
  {
   "cell_type": "code",
   "execution_count": 16,
   "metadata": {},
   "outputs": [],
   "source": [
    "cat_cols=df.select_dtypes(include=['object']).copy().columns\n",
    "def barplot(df,cat_column,target_column):\n",
    "    '''\n",
    "    INPUT:\n",
    "    df - pandas dataframe\n",
    "    cat_column - The categorical column we want to plot\n",
    "    target_column - The column we want to predict or compare\n",
    "        \n",
    "    OUTPUT:\n",
    "    x - a bar plot sorted by the average punctuation  \n",
    "    '''\n",
    "    a=df[[cat_column,target_column]]\n",
    "    x=a.plot(kind='bar')\n",
    "    #https://pandas.pydata.org/docs/reference/api/pandas.DataFrame.plot.html\n",
    "    \n",
    "    \n",
    "    #ver mi código del trabajo\n",
    "    \n",
    "\n",
    "    return x\n",
    "def plotall(df,cat_cols,target_column):\n",
    "    '''\n",
    "    INPUT:\n",
    "    df - pandas dataframe\n",
    "    cat_cols - A list of categorical columns we want to measure\n",
    "    target_column - The column we want to predict or compare\n",
    "        \n",
    "    OUTPUT:\n",
    "    x - a bar plot sorted by the average punctuation per each categorical column  \n",
    "    '''\n",
    "    for i in cat_cols:\n",
    "        barplot(df,i,target_column)\n",
    "    return x        "
   ]
  },
  {
   "cell_type": "code",
   "execution_count": null,
   "metadata": {},
   "outputs": [],
   "source": [
    "plotall(df,cat_cols,'PUNT_GLOBALÂ')"
   ]
  },
  {
   "cell_type": "markdown",
   "metadata": {},
   "source": [
    "## Data preparation"
   ]
  },
  {
   "cell_type": "markdown",
   "metadata": {},
   "source": [
    "For the other variables, I will create dummies, so they can be used to predict the target variable and show correlations."
   ]
  },
  {
   "cell_type": "markdown",
   "metadata": {},
   "source": [
    "I will keep only the variables that seem to have an impact in the final score."
   ]
  },
  {
   "cell_type": "code",
   "execution_count": null,
   "metadata": {},
   "outputs": [],
   "source": [
    "df2=df1[['ESTU_GENEROÂ','ESTU_TIENEETNIAÂ','ESTU_DEPTO_RESIDEÂ','ESTU_ESTADOCIVILÂ'\n",
    "               ,'ESTU_VALORMATRICULAUNIVERSIDADÂ','ESTU_PAGOMATRICULABECAÂ','ESTU_COMOCAPACITOEXAMENSB11Â'\n",
    "               ,'ESTU_CURSODOCENTESIESÂ','ESTU_CURSOIESAPOYOEXTERNOÂ','ESTU_CURSOIESEXTERNAÂ', 'ESTU_SIMULACROTIPOICFESÂ','ESTU_ACTIVIDADREFUERZOAREASÂ'\n",
    "               ,'ESTU_ACTIVIDADREFUERZOGENERICÂ','ESTU_SEMESTRECURSAÂ','FAMI_EDUCACIONPADREÂ','FAMI_EDUCACIONMADREÂ','FAMI_OCUPACIONPADREÂ','FAMI_OCUPACIONMADREÂ'\n",
    "               ,'FAMI_ESTRATOVIVIENDAÂ','FAMI_TIENEINTERNETÂ','FAMI_TIENECOMPUTADORÂ','FAMI_TIENELAVADORAÂ','FAMI_TIENEHORNOMICROOGASÂ','FAMI_TIENESERVICIOTVÂ'\n",
    "               ,'FAMI_TIENEAUTOMOVILÂ','FAMI_TIENEMOTOCICLETAÂ','FAMI_TIENECONSOLAVIDEOJUEGOSÂ','FAMI_TRABAJOLABORPADREÂ','FAMI_TRABAJOLABORMADREÂ'\n",
    "               ,'ESTU_PLANTELEDUCATIVOÂ','ESTU_PREGRADOEXAMENSPÂ','ESTU_UNPOSTGRADOÂ','ESTU_HORASSEMANATRABAJAÂ','FAMI_CUANTOSCOMPARTEBAÃ‘OÂ','ESTU_PAGOMATRICULAÂ'\n",
    "               ,'ESTU_VLRULTIMOSEMESCURSADOÂ','ESTU_PRESENTACIONCASAÂ','INST_NOMBRE_INSTITUCIONÂ'\n",
    "               ,'GRUPOREFERENCIAÂ','ESTU_PRGM_CODMUNICIPIOÂ','ESTU_NIVEL_PRGM_ACADEMICOÂ','ESTU_METODO_PRGMÂ','ESTU_NUCLEO_PREGRADOÂ','INST_CARACTER_ACADEMICOÂ','ESTU_PRIVADO_LIBERTADÂ'\n",
    "               ,'PUNT_GLOBALÂ']].copy()"
   ]
  },
  {
   "cell_type": "code",
   "execution_count": null,
   "metadata": {},
   "outputs": [],
   "source": [
    "cat_cols2=df2.select_dtypes(include=['object']).copy().columns"
   ]
  },
  {
   "cell_type": "code",
   "execution_count": null,
   "metadata": {},
   "outputs": [],
   "source": [
    "def create_dummy_df(df2, cat_cols2, dummy_na):\n",
    "    '''\n",
    "    INPUT:\n",
    "    df - pandas dataframe with categorical variables you want to dummy\n",
    "    cat_cols - list of strings that are associated with names of the categorical columns\n",
    "    dummy_na - Bool holding whether you want to dummy NA vals of categorical columns or not\n",
    "    \n",
    "    OUTPUT:\n",
    "    df - a new dataframe that has the following characteristics:\n",
    "            1. contains all columns that were not specified as categorical\n",
    "            2. removes all the original columns in cat_cols\n",
    "            3. dummy columns for each of the categorical columns in cat_cols\n",
    "            4. if dummy_na is True - it also contains dummy columns for the NaN values\n",
    "            5. Use a prefix of the column name with an underscore (_) for separating \n",
    "    '''\n",
    "    for col in  cat_cols:\n",
    "        try:\n",
    "            # for each cat add dummy var, drop original column\n",
    "            df = pd.concat([df.drop(col, axis=1), pd.get_dummies(df[col], prefix=col, prefix_sep='_', drop_first=True, dummy_na=dummy_na)], axis=1)\n",
    "        except:\n",
    "            continue\n",
    "    return df"
   ]
  },
  {
   "cell_type": "code",
   "execution_count": null,
   "metadata": {},
   "outputs": [],
   "source": [
    "df3 = create_dummy_df(df,cat_cols, dummy_na=True)"
   ]
  },
  {
   "cell_type": "code",
   "execution_count": null,
   "metadata": {},
   "outputs": [],
   "source": [
    "df3.head()"
   ]
  },
  {
   "cell_type": "markdown",
   "metadata": {},
   "source": [
    "## Answering the questions"
   ]
  },
  {
   "cell_type": "markdown",
   "metadata": {},
   "source": [
    "### 1) Which are the socio-demographic variables that most influence the results in the test?\n",
    "To answer this question I will use a linear regression model to predict the result of the test according to the categorical variables"
   ]
  },
  {
   "cell_type": "code",
   "execution_count": null,
   "metadata": {},
   "outputs": [],
   "source": [
    "def clean_fit_linear_mod(df3, col, test_size=.3, rand_state=42):\n",
    "    '''\n",
    "    INPUT:\n",
    "    df - a dataframe holding all the variables of interest\n",
    "    response_col - a string with the name of the target column \n",
    "    cat_cols - list of strings that are associated with names of the categorical columns\n",
    "    dummy_na - Bool holding whether you want to dummy NA vals of categorical columns or not\n",
    "    test_size - a float between [0,1] about what proportion of data should be in the test dataset\n",
    "    rand_state - an int that is provided as the random state for splitting the data into training and test \n",
    "    \n",
    "    OUTPUT:\n",
    "    test_score - float - r2 score on the test data\n",
    "    train_score - float - r2 score on the test data\n",
    "    lm_model - model object from sklearn\n",
    "    X_train, X_test, y_train, y_test - output from sklearn train test split used for optimal model\n",
    "    \n",
    "    Your function should:\n",
    "    1. Drop the rows with missing response values\n",
    "    2. Fill the mean of the column for any missing values \n",
    "    5. Split your data into an X matrix and a response vector y\n",
    "    6. Create training and test sets of data\n",
    "    7. Instantiate a LinearRegression model with normalized data\n",
    "    8. Fit your model to the training data\n",
    "    9. Predict the response for the training data and the test data\n",
    "    10. Obtain an rsquared value for both the training and test data\n",
    "    '''\n",
    "\n",
    "    #Drop the rows with missing response values\n",
    "    df  = df.dropna(subset=[col], axis=0)\n",
    "    y=df[col]\n",
    "    #Drop respondent and expected salary columns\n",
    "    df = df.drop([col], axis=1)\n",
    "    # Mean function\n",
    "    fill_mean = lambda x: x.fillna(x.mean())\n",
    "    # Fill the mean\n",
    "    df = df.apply(fill_mean, axis=0)\n",
    "    #Split into explanatory and response variables\n",
    "    X=df\n",
    "    X_train, X_test, y_train, y_test = train_test_split(X, y, test_size=test_size, random_state=rand_state)\n",
    "    lm_model = LinearRegression(normalize=True) # Instantiate\n",
    "    lm_model.fit(X_train, y_train) #Fit\n",
    "    #Predict using your model\n",
    "    y_test_preds = lm_model.predict(X_test)\n",
    "    y_train_preds = lm_model.predict(X_train)\n",
    "    #Score using your model\n",
    "    test_score = r2_score(y_test, y_test_preds)\n",
    "    train_score = r2_score(y_train, y_train_preds)\n",
    "    return X,y,test_score, train_score, lm_model#, X_train, X_test, y_train, y_test"
   ]
  },
  {
   "cell_type": "code",
   "execution_count": null,
   "metadata": {},
   "outputs": [],
   "source": [
    "#Use the function to create X and y\n",
    "X,y,test_score,train_scroe,model= clean_fit_linear_mod(df2,'PUNT_GLOBALÂ')"
   ]
  },
  {
   "cell_type": "code",
   "execution_count": null,
   "metadata": {},
   "outputs": [],
   "source": [
    "X"
   ]
  },
  {
   "cell_type": "code",
   "execution_count": null,
   "metadata": {},
   "outputs": [],
   "source": [
    "# Get the coefficient of each variable\n",
    "coefficients = model.coef_\n",
    "variables=pd.DataFrame()\n",
    "variables['Column']=X.columns\n",
    "variables['Coefficient']=coefficients\n",
    "\n",
    "\n",
    "# Sort the coefficients in descending order\n",
    "variables.sort_values(by='Coefficient',inplace=True)"
   ]
  },
  {
   "cell_type": "code",
   "execution_count": null,
   "metadata": {},
   "outputs": [],
   "source": [
    "variables2=variables.head(10).append(variables.tail(10))"
   ]
  },
  {
   "cell_type": "code",
   "execution_count": null,
   "metadata": {},
   "outputs": [],
   "source": [
    "variables2"
   ]
  },
  {
   "cell_type": "code",
   "execution_count": null,
   "metadata": {},
   "outputs": [],
   "source": [
    "# Plot the tornado diagram\n",
    "plt.figure()\n",
    "plt.barh(variables2.Column, variables2.Coefficient, color='blue')\n",
    "plt.xlabel('Coefficient')\n",
    "plt.ylabel('Variable')\n",
    "plt.title('Tornado Diagram of Coefficients for Multiple Linear Regression Model')\n",
    "plt.show()"
   ]
  },
  {
   "cell_type": "code",
   "execution_count": null,
   "metadata": {},
   "outputs": [],
   "source": [
    "TCM_rating=TCM[TCM['variable_1']=='Final_Rate'].copy()"
   ]
  },
  {
   "cell_type": "code",
   "execution_count": null,
   "metadata": {},
   "outputs": [],
   "source": [
    "TCM_rating.sort_values(by='r',inplace=True)\n",
    "TCM_rating"
   ]
  },
  {
   "cell_type": "code",
   "execution_count": null,
   "metadata": {},
   "outputs": [],
   "source": [
    "plt.figure()\n",
    "plt.barh(TCM_rating.variable_2 ,TCM_rating.r, color='blue')\n",
    "plt.xlabel('Correlation')\n",
    "plt.ylabel('Variable')\n",
    "plt.title('Correlation between Final Rate and numerical variables')\n",
    "plt.xticks(rotation=0)\n",
    "plt.show()"
   ]
  },
  {
   "cell_type": "markdown",
   "metadata": {},
   "source": [
    "model"
   ]
  }
 ],
 "metadata": {
  "kernelspec": {
   "display_name": "Python 3",
   "language": "python",
   "name": "python3"
  },
  "language_info": {
   "codemirror_mode": {
    "name": "ipython",
    "version": 3
   },
   "file_extension": ".py",
   "mimetype": "text/x-python",
   "name": "python",
   "nbconvert_exporter": "python",
   "pygments_lexer": "ipython3",
   "version": "3.8.5"
  }
 },
 "nbformat": 4,
 "nbformat_minor": 4
}
